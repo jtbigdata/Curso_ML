{
 "cells": [
  {
   "cell_type": "markdown",
   "id": "ec057323-499b-4488-a604-bf591655704b",
   "metadata": {},
   "source": [
    "<H1>Marco teórico: Árboles de Decisión y Random Forest </H1>"
   ]
  },
  {
   "cell_type": "markdown",
   "id": "2f3264d0-f9fc-4648-ad0c-a6b5063d155c",
   "metadata": {},
   "source": [
    "### **Conceptos Clave:**\n",
    "\n",
    "#### **Árboles de Decisión**\n",
    "\n",
    "Los **árboles de decisión** son modelos de aprendizaje supervisado utilizados tanto para clasificación como para regresión. Se estructuran en forma de árbol, con tres componentes principales: nodos, ramas y hojas.\n",
    "\n",
    "- **Nodo:** Un nodo en un árbol de decisión representa una prueba en una característica. Es donde se decide cómo dividir los datos. Hay dos tipos de nodos:\n",
    "  - **Nodo Interno:** Representa una prueba en una característica que divide los datos en función del valor de la característica.\n",
    "  - **Nodo Raíz:** Es el nodo superior del árbol, desde donde comienza la división de los datos.\n",
    "  \n",
    "- **Rama:** Una rama conecta un nodo con otros nodos o hojas. Representa el resultado de la prueba realizada en el nodo anterior.\n",
    "\n",
    "- **Hoja:** Una hoja es el nodo terminal del árbol, donde se realiza la predicción final. En un árbol de clasificación, representa una etiqueta de clase; en un árbol de regresión, representa un valor numérico.\n",
    "\n",
    "1. **Árboles de Decisión para Clasificación**\n",
    "\n",
    "- **Definición:**\n",
    "  Un árbol de decisión para clasificación asigna una etiqueta de clase a una instancia basándose en sus características.\n",
    "\n",
    "- **Criterio de Impureza:**\n",
    "  - **Entropía:** Mide la incertidumbre o impureza en un nodo. La fórmula para la entropía es:\n",
    "    $\n",
    "    \\text{Entropía} = - \\sum_{i=1}^{c} p_i \\log_2(p_i)\n",
    "    $\n",
    "    donde $p_i$ es la probabilidad de la clase $i$ en el nodo, y $c$ es el número total de clases.\n",
    "  - **Índice de Gini:** Mide la pureza del nodo. Se calcula como:\n",
    "\n",
    "    $\n",
    "    \\text{Índice de Gini} = 1 - \\sum_{i=1}^{c} p_i^2\n",
    "    $\n",
    "    \n",
    "    donde $p_i$ es la proporción de instancias de la clase $i$ en el nodo.\n",
    "\n",
    "2. **Árboles de Decisión para Regresión**\n",
    "\n",
    "- **Definición:**\n",
    "  Un árbol de decisión para regresión predice un valor continuo en lugar de una etiqueta de clase.\n",
    "\n",
    "- **Criterio de Impureza:**\n",
    "  - **Varianza:** Mide la dispersión de los valores objetivo en un nodo. La fórmula para la varianza es:\n",
    "    $\n",
    "    \\text{Varianza} = \\frac{1}{n} \\sum_{i=1}^{n} (y_i - \\bar{y})^2\n",
    "    $\n",
    "    donde $y_i$ es el valor objetivo de la instancia $i$, $\\bar{y}$ es la media de los valores objetivos en el nodo, y $n$ es el número de instancias en el nodo.\n",
    "\n",
    "    En el contexto de los árboles de decisión para regresión, la **impureza** se mide por la varianza de los valores de salida. Un nodo con baja varianza (baja impureza) indica que los valores de salida están más concentrados alrededor de la media, lo que implica una mejor calidad en la predicción.\n",
    "\n",
    "### **Ensembles: Random Forest**\n",
    "\n",
    "Un **Random Forest** es un modelo de ensamblaje que combina múltiples árboles de decisión para mejorar la precisión y robustez del modelo.\n",
    "\n",
    "**1. **Conceptos Clave**\n",
    "\n",
    "- **Composición:**\n",
    "  - Un Random Forest está compuesto por múltiples árboles de decisión, cada uno entrenado con un subconjunto aleatorio de los datos (muestreo con reemplazo) y un subconjunto aleatorio de características (subespacio de características).\n",
    "\n",
    "- **Predicción:**\n",
    "  - Para **clasificación**, la predicción final se obtiene por mayoría de votos entre todos los árboles:\n",
    "\n",
    "    $\n",
    "    \\text{Predicción Final} = \\text{modo}\\left(\\text{predicción}_1, \\text{predicción}_2, \\ldots, \\text{predicción}_{n_{\\text{trees}}}\\right)\n",
    "    $\n",
    "    \n",
    "  - Para **regresión**, la predicción final es el promedio de las predicciones de todos los árboles:\n",
    "\n",
    "    $\n",
    "    \\text{Predicción Final} = \\frac{1}{n_{\\text{trees}}} \\sum_{i=1}^{n_{\\text{trees}}} \\text{predicción}_i\n",
    "    $\n",
    "\n",
    "**2. **Importancia de Características**\n",
    "\n",
    "El Random Forest calcula la importancia de cada característica en la predicción mediante la reducción de impureza. La importancia de una característica se basa en la disminución media de impureza que se logra al dividir en nodos con esa característica.\n",
    "\n",
    "- **Reducción de Impureza:** Para una característica dada, se calcula la reducción de impureza como la diferencia entre la impureza promedio de los nodos antes y después de la división usando esa característica. Esto se puede calcular como:\n",
    "\n",
    "  - **Impureza Antes de la División:** Es la impureza promedio en el nodo padre antes de la división. En clasificación, puede ser la entropía o el índice de Gini. En regresión, es la varianza. Se calcula como:\n",
    "\n",
    "    $\n",
    "    \\text{Impureza Antes} = \\frac{\\sum_{i=1}^{m} I_i \\cdot w_i}{\\sum_{i=1}^{m} w_i}\n",
    "    $\n",
    "    \n",
    "    donde $I_i$ es la impureza en el nodo $i$, y $w_i$ es el peso o el número de instancias en el nodo $i$, y $m$ es el número de nodos.\n",
    "\n",
    "  - **Impureza Después de la División:** Es la impureza ponderada de los nodos hijos después de la división. Para un nodo hijo $j$ con impureza $I_j$ y peso $w_j$ (número de instancias en el nodo hijo $j$), la impureza promedio se calcula como:\n",
    "\n",
    "    $\n",
    "    \\text{Impureza Después} = \\frac{\\sum_{j=1}^{k} I_j \\cdot w_j}{\\sum_{j=1}^{k} w_j}\n",
    "    $\n",
    "    \n",
    "    donde $k$ es el número de nodos hijos.\n",
    "\n",
    "  - **Reducción de Impureza:**\n",
    "    $\n",
    "    \\text{Reducción de Impureza} = \\text{Impureza Antes} - \\text{Impureza Después}\n",
    "    $\n",
    "\n",
    "    La reducción de impureza mide el beneficio de dividir los datos en función de una característica. Una mayor reducción indica que la característica es importante para la predicción.\n",
    "\n",
    "### **Selección de Hiperparámetros**\n",
    "\n",
    "Los hiperparámetros del Random Forest son cruciales para ajustar el rendimiento del modelo. Entre los principales hiperparámetros se encuentran:\n",
    "\n",
    "- **n_estimators:** Número de árboles en el bosque. Un mayor número de árboles puede mejorar la precisión, pero aumenta el tiempo de cómputo.\n",
    "\n",
    "- **max_features:** Número máximo de características a considerar para la mejor división en cada árbol. Puede ser un número entero, un porcentaje del total de características, o valores predeterminados como `'auto'`, `'sqrt'`, `'log2'`.\n",
    "\n",
    "- **max_depth:** Profundidad máxima de los árboles. Limitar la profundidad puede ayudar a evitar el sobreajuste.\n",
    "\n",
    "- **min_samples_split:** Número mínimo de muestras necesarias para dividir un nodo interno. Un valor mayor puede evitar divisiones que no aportan valor significativo.\n",
    "\n",
    "- **min_samples_leaf:** Número mínimo de muestras en un nodo hoja. Aumentar este valor puede ayudar a suavizar el modelo y evitar el sobreajuste.\n",
    "\n",
    "- **bootstrap:** Indica si se utiliza muestreo con reemplazo para construir los árboles. Si es `False`, se utiliza todo el conjunto de datos para cada árbol.\n",
    "\n",
    "### **Conclusión**\n",
    "\n",
    "Los árboles de decisión y el Random Forest son herramientas efectivas para tareas de clasificación y regresión. La comprensión de los conceptos fundamentales como nodos, ramas y hojas, los criterios de impureza, y la estructura de los árboles, junto con el uso de técnicas de ensamblaje como Random Forest, permite construir modelos más precisos y robustos. La correcta selección de hiperparámetros es esencial para optimizar el rendimiento del modelo."
   ]
  },
  {
   "cell_type": "markdown",
   "id": "0bc17f48-84be-4139-8371-c67a1d833e11",
   "metadata": {},
   "source": [
    "<H1>Módulo 7: Árboles de Decisión y Random Forest </H1>"
   ]
  },
  {
   "cell_type": "markdown",
   "id": "01f74bbd-6d75-45fd-992e-4beb4fa0f8ff",
   "metadata": {},
   "source": [
    "**Conceptos clave:**\n",
    "Árboles de decisión para clasificación y regresión.\n",
    "\n",
    "Ensembles: Random Forest.\n",
    "\n",
    "Importancia de características y selección de hiperparámetros.\n",
    "\n",
    "**Proyecto:** Detección de fraudes con Random Forest.\n",
    "Utilizar un dataset de transacciones para entrenar un Random Forest y detectar fraudes financieros. Análisis de importancia de las variables."
   ]
  },
  {
   "cell_type": "markdown",
   "id": "c7f1de22-3964-499c-bbfb-dfa51c4044a5",
   "metadata": {},
   "source": [
    "**Proyecto Completo: Detección de Fraudes con Árboles de Decisión y Random Forest**\n",
    "\n",
    "**1. Preparación del Entorno**\n",
    "Instala las librerías necesarias si aún no lo has hecho:"
   ]
  },
  {
   "cell_type": "code",
   "execution_count": 2,
   "id": "406ba5f4-5c79-4383-a003-6b66714b4c93",
   "metadata": {},
   "outputs": [],
   "source": [
    "#!pip install pandas scikit-learn matplotlib seaborn requests"
   ]
  },
  {
   "cell_type": "markdown",
   "id": "4e723fd2-a147-441e-8f55-35b3b87a022a",
   "metadata": {},
   "source": [
    "**2. Importar Librerías**"
   ]
  },
  {
   "cell_type": "code",
   "execution_count": 8,
   "id": "7162dcdf-76b5-4cd6-ba22-276ce77c50ea",
   "metadata": {},
   "outputs": [],
   "source": [
    "import pandas as pd\n",
    "import numpy as np\n",
    "import matplotlib.pyplot as plt\n",
    "import seaborn as sns\n",
    "from sklearn.model_selection import train_test_split\n",
    "from sklearn.ensemble import RandomForestClassifier\n",
    "from sklearn.metrics import classification_report, confusion_matrix\n",
    "from sklearn.preprocessing import LabelEncoder\n",
    "import requests\n",
    "from io import StringIO"
   ]
  },
  {
   "cell_type": "markdown",
   "id": "26c408a5-a599-4dae-a027-d7e4c5a03da9",
   "metadata": {},
   "source": [
    "**3. Descargar y Cargar el Dataset**\n",
    "\n",
    "Aquí se descarga el dataset directamente desde la web y se carga en un DataFrame de pandas."
   ]
  },
  {
   "cell_type": "code",
   "execution_count": 16,
   "id": "5c71d189-d69a-479a-ac0e-4da40196b17d",
   "metadata": {},
   "outputs": [],
   "source": [
    "# URL del dataset (creditcard.csv en formato CSV accesible)\n",
    "url = '/home/julio/jupyter_files/Curso_ML/card_transdata.csv'\n",
    "\n",
    "\n",
    "# Cargar el dataset en un DataFrame\n",
    "df = pd.read_csv(url)"
   ]
  },
  {
   "cell_type": "code",
   "execution_count": 17,
   "id": "ec44bae5-0897-4ab4-b886-f919c1aa1002",
   "metadata": {},
   "outputs": [
    {
     "name": "stdout",
     "output_type": "stream",
     "text": [
      "<class 'pandas.core.frame.DataFrame'>\n",
      "RangeIndex: 1000000 entries, 0 to 999999\n",
      "Data columns (total 8 columns):\n",
      " #   Column                          Non-Null Count    Dtype  \n",
      "---  ------                          --------------    -----  \n",
      " 0   distance_from_home              1000000 non-null  float64\n",
      " 1   distance_from_last_transaction  1000000 non-null  float64\n",
      " 2   ratio_to_median_purchase_price  1000000 non-null  float64\n",
      " 3   repeat_retailer                 1000000 non-null  float64\n",
      " 4   used_chip                       1000000 non-null  float64\n",
      " 5   used_pin_number                 1000000 non-null  float64\n",
      " 6   online_order                    1000000 non-null  float64\n",
      " 7   fraud                           1000000 non-null  float64\n",
      "dtypes: float64(8)\n",
      "memory usage: 61.0 MB\n"
     ]
    }
   ],
   "source": [
    "df.info()"
   ]
  },
  {
   "cell_type": "markdown",
   "id": "dafbcf86-f688-41cb-b948-9a5a8bef400c",
   "metadata": {},
   "source": [
    "**4. Exploración Inicial y Preprocesamiento**\n",
    "\n",
    "Revisar y preparar los datos."
   ]
  },
  {
   "cell_type": "code",
   "execution_count": 18,
   "id": "b42d8611-d882-4108-a68c-aec6a9ca3407",
   "metadata": {},
   "outputs": [],
   "source": [
    "import pandas as pd\n",
    "import numpy as np\n",
    "import matplotlib.pyplot as plt\n",
    "import seaborn as sns\n",
    "from sklearn.model_selection import train_test_split\n",
    "from sklearn.ensemble import RandomForestClassifier\n",
    "from sklearn.preprocessing import StandardScaler\n",
    "from sklearn.pipeline import Pipeline\n",
    "from sklearn.metrics import classification_report, confusion_matrix"
   ]
  },
  {
   "cell_type": "code",
   "execution_count": 19,
   "id": "9903c9fb-209d-48c9-8a11-ed2fcd7604f5",
   "metadata": {},
   "outputs": [
    {
     "name": "stdout",
     "output_type": "stream",
     "text": [
      "   distance_from_home  distance_from_last_transaction  \\\n",
      "0           57.877857                        0.311140   \n",
      "1           10.829943                        0.175592   \n",
      "2            5.091079                        0.805153   \n",
      "3            2.247564                        5.600044   \n",
      "4           44.190936                        0.566486   \n",
      "\n",
      "   ratio_to_median_purchase_price  repeat_retailer  used_chip  \\\n",
      "0                        1.945940              1.0        1.0   \n",
      "1                        1.294219              1.0        0.0   \n",
      "2                        0.427715              1.0        0.0   \n",
      "3                        0.362663              1.0        1.0   \n",
      "4                        2.222767              1.0        1.0   \n",
      "\n",
      "   used_pin_number  online_order  fraud  \n",
      "0              0.0           0.0    0.0  \n",
      "1              0.0           0.0    0.0  \n",
      "2              0.0           1.0    0.0  \n",
      "3              0.0           1.0    0.0  \n",
      "4              0.0           1.0    0.0  \n"
     ]
    }
   ],
   "source": [
    "# Revisar los primeros registros\n",
    "print(df.head())\n",
    "\n",
    "# Dividir en características y variable objetivo\n",
    "X = df.drop('fraud', axis=1)  # Características\n",
    "y = df['fraud']  # Variable objetivo\n",
    "\n",
    "# Dividir el dataset en conjuntos de entrenamiento y prueba\n",
    "X_train, X_test, y_train, y_test = train_test_split(X, y, test_size=0.3, random_state=42, stratify=y)"
   ]
  },
  {
   "cell_type": "markdown",
   "id": "d49f631c-ebff-44c8-bcb7-945cfbd117aa",
   "metadata": {},
   "source": [
    "**5. Creación del Pipeline**"
   ]
  },
  {
   "cell_type": "code",
   "execution_count": 20,
   "id": "3fa1818f-e7fc-4d0c-9c25-229e932c3c07",
   "metadata": {},
   "outputs": [],
   "source": [
    "from sklearn.preprocessing import StandardScaler\n",
    "from sklearn.compose import ColumnTransformer\n",
    "from sklearn.pipeline import Pipeline\n",
    "\n",
    "# Crear el preprocesador\n",
    "preprocessor = ColumnTransformer(\n",
    "    transformers=[\n",
    "        ('num', StandardScaler(), X.columns)\n",
    "    ])\n",
    "\n",
    "# Crear el modelo Random Forest\n",
    "model = RandomForestClassifier(n_estimators=100, random_state=42)\n",
    "\n",
    "# Crear el pipeline\n",
    "pipeline = Pipeline(steps=[('preprocessor', preprocessor),\n",
    "                           ('classifier', model)])"
   ]
  },
  {
   "cell_type": "markdown",
   "id": "7317bf8a-dbb3-4118-bbc3-eac33fd06863",
   "metadata": {},
   "source": [
    "**6. Entrenamiento y Evaluación del Modelo**"
   ]
  },
  {
   "cell_type": "code",
   "execution_count": 21,
   "id": "c5b9b80e-ae78-456a-b7a1-630529d31e98",
   "metadata": {},
   "outputs": [
    {
     "name": "stdout",
     "output_type": "stream",
     "text": [
      "Reporte de Clasificación - Random Forest:\n",
      "              precision    recall  f1-score   support\n",
      "\n",
      "         0.0       1.00      1.00      1.00    273779\n",
      "         1.0       1.00      1.00      1.00     26221\n",
      "\n",
      "    accuracy                           1.00    300000\n",
      "   macro avg       1.00      1.00      1.00    300000\n",
      "weighted avg       1.00      1.00      1.00    300000\n",
      "\n"
     ]
    },
    {
     "data": {
      "image/png": "[encoded data removed]",
      "text/plain": [
       "<Figure size 800x600 with 2 Axes>"
      ]
     },
     "metadata": {},
     "output_type": "display_data"
    }
   ],
   "source": [
    "# Entrenar el modelo\n",
    "pipeline.fit(X_train, y_train)\n",
    "\n",
    "# Predicciones\n",
    "y_pred = pipeline.predict(X_test)\n",
    "\n",
    "# Reporte de clasificación para Random Forest\n",
    "print(\"Reporte de Clasificación - Random Forest:\")\n",
    "print(classification_report(y_test, y_pred))\n",
    "\n",
    "# Matriz de confusión para Random Forest\n",
    "cm = confusion_matrix(y_test, y_pred)\n",
    "plt.figure(figsize=(8, 6))\n",
    "sns.heatmap(cm, annot=True, fmt='d', cmap='Blues', xticklabels=['No Fraude', 'Fraude'], yticklabels=['No Fraude', 'Fraude'])\n",
    "plt.xlabel('Predicción')\n",
    "plt.ylabel('Real')\n",
    "plt.title('Matriz de Confusión - Random Forest')\n",
    "plt.show()"
   ]
  },
  {
   "cell_type": "markdown",
   "id": "87c524a0-5f11-41d1-8424-c642bde6e426",
   "metadata": {},
   "source": [
    "**7. Análisis de Importancia de Características**"
   ]
  },
  {
   "cell_type": "code",
   "execution_count": 22,
   "id": "9a79dc34-109c-45f0-b516-ea6727e42fdd",
   "metadata": {},
   "outputs": [],
   "source": [
    "# Obtener el modelo Random Forest desde el pipeline\n",
    "rf_model = pipeline.named_steps['classifier']\n",
    "\n",
    "# Obtener la importancia de las características del Random Forest\n",
    "importances = rf_model.feature_importances_\n",
    "features = X.columns"
   ]
  },
  {
   "cell_type": "code",
   "execution_count": 23,
   "id": "817511ae-320c-41d5-afc4-b0116686d863",
   "metadata": {},
   "outputs": [],
   "source": [
    "# Crear un DataFrame con las importancias\n",
    "importance_df = pd.DataFrame({'Feature': features, 'Importance': importances})\n",
    "importance_df = importance_df.sort_values(by='Importance', ascending=False)"
   ]
  },
  {
   "cell_type": "code",
   "execution_count": 24,
   "id": "1ce7f9c7-0fdc-4938-9998-5caa01297a21",
   "metadata": {},
   "outputs": [
    {
     "name": "stdout",
     "output_type": "stream",
     "text": [
      "Importancia de Características - Random Forest:\n",
      "                          Feature  Importance\n",
      "2  ratio_to_median_purchase_price    0.526900\n",
      "6                    online_order    0.170429\n",
      "0              distance_from_home    0.132397\n",
      "5                 used_pin_number    0.062964\n",
      "4                       used_chip    0.054264\n",
      "1  distance_from_last_transaction    0.046277\n",
      "3                 repeat_retailer    0.006769\n"
     ]
    },
    {
     "data": {
      "image/png": "[encoded data removed]",
      "text/plain": [
       "<Figure size 1200x800 with 1 Axes>"
      ]
     },
     "metadata": {},
     "output_type": "display_data"
    }
   ],
   "source": [
    "# Mostrar la importancia de las características\n",
    "print(\"Importancia de Características - Random Forest:\")\n",
    "print(importance_df)\n",
    "\n",
    "# Visualizar la importancia de las características\n",
    "plt.figure(figsize=(12, 8))\n",
    "sns.barplot(x='Importance', y='Feature', data=importance_df)\n",
    "plt.title('Importancia de Características - Random Forest')\n",
    "plt.show()"
   ]
  },
  {
   "cell_type": "code",
   "execution_count": null,
   "id": "03fa2149-da42-4faf-8d8b-9f48ff3b8ddf",
   "metadata": {},
   "outputs": [],
   "source": []
  }
 ],
 "metadata": {
  "kernelspec": {
   "display_name": "Python 3 (ipykernel)",
   "language": "python",
   "name": "python3"
  },
  "language_info": {
   "codemirror_mode": {
    "name": "ipython",
    "version": 3
   },
   "file_extension": ".py",
   "mimetype": "text/x-python",
   "name": "python",
   "nbconvert_exporter": "python",
   "pygments_lexer": "ipython3",
   "version": "3.10.12"
  }
 },
 "nbformat": 4,
 "nbformat_minor": 5
}
