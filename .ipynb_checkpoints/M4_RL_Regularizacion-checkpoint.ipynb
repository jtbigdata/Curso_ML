{
 "cells": [
  {
   "cell_type": "markdown",
   "id": "30608034-7201-4fa9-9182-3ebdaf5e2bb4",
   "metadata": {},
   "source": [
    "<H1>Marco Teórico: Regresión Lineal y Avanzada</H1>"
   ]
  },
  {
   "cell_type": "markdown",
   "id": "b752efd7-ebf3-473e-959f-607c5581521a",
   "metadata": {},
   "source": [
    "### 1. Introducción\n",
    "\n",
    "La **regresión lineal** es una técnica fundamental en estadística y aprendizaje automático que modela la relación entre una variable dependiente y una o más variables independientes. En este marco teórico, también abordaremos **regresión polinomial** y **regularización** como extensiones importantes del modelo lineal.\n",
    "\n",
    "### 2. Regresión Lineal\n",
    "\n",
    "#### 2.1. Formulación Matemática\n",
    "\n",
    "La regresión lineal simple se expresa como:\n",
    "\n",
    "$ y_i = \\beta_0 + \\beta_1 x_i + \\varepsilon_i $\n",
    "\n",
    "Para múltiples variables independientes:\n",
    "\n",
    "$ y_i = \\beta_0 + \\beta_1 x_{i1} + \\beta_2 x_{i2} + \\cdots + \\beta_p x_{ip} + \\varepsilon_i $\n",
    "\n",
    "#### 2.2. Estimación de Parámetros\n",
    "\n",
    "Se utilizan los **mínimos cuadrados ordinarios (OLS)** para estimar los parámetros, minimizando la suma de los cuadrados de los errores (SSE):\n",
    "\n",
    "$\n",
    "\\hat{\\beta} = \\left( X^T X \\right)^{-1} X^T y\n",
    "$\n",
    "\n",
    "donde $X$ es la matriz de diseño y $y$ el vector de respuestas.\n",
    "\n",
    "#### 2.3. Evaluación del Modelo\n",
    "\n",
    "- **Coeficiente de Determinación ($R²$)**\n",
    "\n",
    "El **Coeficiente de Determinación ($R²$)** mide la proporción de la variabilidad en la variable dependiente que es explicada por el modelo. Se calcula como:\n",
    "\n",
    "$\n",
    "R^2 = 1 - \\frac{\\text{SSE}}{\\text{SST}}\n",
    "$\n",
    "\n",
    "donde:\n",
    "\n",
    "- **Suma de los Cuadrados de los Errores (SSE)**\n",
    "\n",
    "La **Suma de los Cuadrados de los Errores (SSE)** mide la discrepancia entre los valores observados y los valores predichos por el modelo. Se calcula como:\n",
    "\n",
    "$\n",
    "\\text{SSE} = \\sum_{i=1}^{n} \\left( y_i - \\hat{y}_i \\right)^2\n",
    "$\n",
    "\n",
    "donde $y_i$ son los valores observados y $\\hat{y}_i$ son los valores predichos. SSE proporciona una medida de la variabilidad en los datos que no ha sido capturada por el modelo.\n",
    "\n",
    "- **Suma Total de los Cuadrados (SST)**\n",
    "\n",
    "La **Suma Total de los Cuadrados (SST)** mide la variabilidad total en los datos con respecto a la media de la variable dependiente. Se calcula como:\n",
    "\n",
    "$\n",
    "\\text{SST} = \\sum_{i=1}^{n} \\left( y_i - \\bar{y} \\right)^2\n",
    "$\n",
    "\n",
    "donde $\\bar{y}$ es la media de los valores observados. SST proporciona una medida de la variabilidad total en los datos.\n",
    "\n",
    "- **Error Cuadrático Medio (MSE)**\n",
    "\n",
    "$\n",
    "\\text{MSE} = \\frac{1}{n} \\sum_{i=1}^{n} \\left( y_i - \\hat{y}_i \\right)^2\n",
    "$\n",
    "\n",
    "- **Raíz del Error Cuadrático Medio (RMSE)**\n",
    "\n",
    "$\n",
    "\\text{RMSE} = \\sqrt{\\text{MSE}}\n",
    "$\n",
    "\n",
    "### 3. Supuestos de la Regresión Lineal\n",
    "\n",
    "1. **Linealidad**\n",
    "2. **Independencia**\n",
    "3. **Homoscedasticidad**\n",
    "4. **Normalidad**\n",
    "\n",
    "### 4. Regresión Polinomial y Regularización\n",
    "\n",
    "#### 4.1. Regresión Polinomial\n",
    "\n",
    "La **regresión polinomial** extiende la regresión lineal al incluir términos polinómicos de las variables independientes. La forma general de un modelo polinomial de grado \\(d\\) es:\n",
    "\n",
    "$ y_i = \\beta_0 + \\beta_1 x_i + \\beta_2 x_i^2 + \\cdots + \\beta_d x_i^d + \\varepsilon_i $\n",
    "\n",
    "donde $x_i^k$ representa las potencias $k$-ésimas de la variable independiente.\n",
    "\n",
    "La regresión polinomial permite capturar relaciones no lineales entre la variable dependiente y las variables independientes. Se utiliza cuando los datos muestran una tendencia curvilínea.\n",
    "\n",
    "#### 4.2. Regularización\n",
    "\n",
    "La **regularización** es una técnica utilizada para prevenir el sobreajuste del modelo al penalizar los coeficientes del modelo. Existen tres métodos principales de regularización:\n",
    "\n",
    "##### 4.2.1. Regularización Ridge\n",
    "\n",
    "La **regresión Ridge** agrega un término de penalización L2 al costo de la regresión lineal. La función de costo se modifica a:\n",
    "\n",
    "$\n",
    "\\text{Costo}_{\\text{Ridge}} = \\text{SSE} + \\lambda \\sum_{j=1}^{p} \\beta_j^2\n",
    "$\n",
    "\n",
    "donde $\\lambda$ es el parámetro de regularización. Ridge penaliza el tamaño de los coeficientes, ayudando a prevenir el sobreajuste pero no elimina variables.\n",
    "\n",
    "##### 4.2.2. Regularización Lasso\n",
    "\n",
    "La **regresión Lasso** agrega un término de penalización L1 al costo de la regresión lineal. La función de costo se modifica a:\n",
    "\n",
    "$\n",
    "\\text{Costo}_{\\text{Lasso}} = \\text{SSE} + \\lambda \\sum_{j=1}^{p} |\\beta_j|\n",
    "$\n",
    "\n",
    "La regularización Lasso puede hacer que algunos coeficientes sean exactamente cero, realizando una selección de variables y simplificando el modelo.\n",
    "\n",
    "##### 4.2.3. Regularización Elastic Net\n",
    "\n",
    "La **regresión Elastic Net** combina las penalizaciones L1 y L2. La función de costo es:\n",
    "\n",
    "$\n",
    "\\text{Costo}_{\\text{Elastic Net}} = \\text{SSE} + \\lambda_1 \\sum_{j=1}^{p} |\\beta_j| + \\lambda_2 \\sum_{j=1}^{p} \\beta_j^2\n",
    "$\n",
    "\n",
    "donde $ \\lambda_1$ y $\\lambda_2$ son los parámetros de regularización para las penalizaciones L1 y L2, respectivamente. Elastic Net es útil cuando hay múltiples características correlacionadas, combinando las ventajas de Ridge y Lasso.\n",
    "\n",
    "### **Métricas de Error:**\n",
    "\n",
    "**MSE** y **RMSE** se calculan como:\n",
    "\n",
    "$\n",
    "\\text{MSE} = \\frac{1}{n} \\text{SSE}\n",
    "$\n",
    "\n",
    "$\n",
    "\\text{RMSE} = \\sqrt{\\text{MSE}}\n",
    "$\n",
    "\n",
    "La penalización Elastic Net ajusta el MSE y RMSE de manera que combina los efectos de Ridge y Lasso, proporcionando un equilibrio entre el ajuste del modelo y la complejidad.\n",
    "\n",
    "**R²**: Se calcula como:\n",
    "\n",
    "$\n",
    "R^2 = 1 - \\frac{\\text{SSE}}{\\text{SST}}\n",
    "$"
   ]
  },
  {
   "cell_type": "markdown",
   "id": "261c61f6-6405-4102-9d44-39ecf6160d28",
   "metadata": {},
   "source": [
    "<H1>Módulo 4: Regresión Polinomial y Regularización</H1>"
   ]
  },
  {
   "cell_type": "markdown",
   "id": "2b12dd04-910d-4e42-a23d-354f5a416109",
   "metadata": {},
   "source": [
    "**Conceptos clave:**\n",
    "\n",
    "Regresión polinomial.\n",
    "\n",
    "Regularización: Ridge, Lasso, Elastic Net.\n",
    "\n",
    "Proyecto: Regresión polinomial y regularización para predicción de ventas.\n",
    "Utilizar un dataset de ventas para aplicar regresión polinomial y comparar los efectos de regularización con Ridge y Lasso."
   ]
  },
  {
   "cell_type": "markdown",
   "id": "9bcbb2c1-18e1-477f-8574-9ed1fdb56b89",
   "metadata": {},
   "source": [
    "**Paso 2: Importar las librerías necesarias**\n",
    "\n",
    "Vamos a importar las librerías necesarias para el proyecto."
   ]
  },
  {
   "cell_type": "code",
   "execution_count": 13,
   "id": "f4822b36-b252-4dbe-b1b5-65362a894b41",
   "metadata": {},
   "outputs": [],
   "source": [
    "# Importar las bibliotecas necesarias\n",
    "import numpy as np\n",
    "import pandas as pd\n",
    "from sklearn.datasets import fetch_california_housing\n",
    "from sklearn.model_selection import train_test_split\n",
    "from sklearn.preprocessing import PolynomialFeatures, StandardScaler\n",
    "from sklearn.linear_model import Ridge, Lasso, ElasticNet, LinearRegression\n",
    "from sklearn.metrics import mean_squared_error\n",
    "import matplotlib.pyplot as plt"
   ]
  },
  {
   "cell_type": "markdown",
   "id": "910deca3-407c-4266-8c09-e7dad4e6795b",
   "metadata": {},
   "source": [
    "**Explicación:**\n",
    "\n",
    "fetch_california_housing: Carga el dataset de California Housing.\n",
    "\n",
    "PolynomialFeatures: Crea características polinómicas para aplicar regresión polinomial.\n",
    "\n",
    "Ridge, Lasso, ElasticNet: Son modelos de regularización que aplicaremos.\n",
    "\n",
    "train_test_split: Divide los datos en conjuntos de entrenamiento y prueba.\n",
    "\n",
    "StandardScaler: Normaliza las características."
   ]
  },
  {
   "cell_type": "markdown",
   "id": "a99ff6a5-4714-4ae0-ac0c-545bd651fb1e",
   "metadata": {},
   "source": [
    "**Paso 2: Cargar y dividir el dataset**\n",
    "\n",
    "Ahora cargamos el dataset de \"California Housing\" y lo dividimos en conjuntos de entrenamiento y prueba."
   ]
  },
  {
   "cell_type": "code",
   "execution_count": 14,
   "id": "cdb5f493-64da-4011-81f3-fafeac4a736d",
   "metadata": {},
   "outputs": [],
   "source": [
    "# Cargar el dataset de California Housing\n",
    "housing = fetch_california_housing()\n",
    "X, y = housing.data, housing.target\n",
    "\n",
    "# Dividir los datos en conjuntos de entrenamiento y prueba\n",
    "X_train, X_test, y_train, y_test = train_test_split(X, y, test_size=0.2, random_state=42)"
   ]
  },
  {
   "cell_type": "markdown",
   "id": "9bfcd151-f239-4ace-9327-1b6faa5761aa",
   "metadata": {},
   "source": [
    "**Explicación:**\n",
    "\n",
    "X: Contiene las características del dataset.\n",
    "\n",
    "y: Contiene el precio de las viviendas, que es la variable que queremos predecir.\n",
    "\n",
    "train_test_split: Separa el 80% de los datos para el entrenamiento y el 20% para las pruebas."
   ]
  },
  {
   "cell_type": "markdown",
   "id": "e1e1c826-cc8e-4d03-8a5c-c9bb0f93a018",
   "metadata": {},
   "source": [
    "**Paso 3: Crear características polinómicas de grado 2**\n",
    "\n",
    "Aquí creamos las características polinómicas de grado 2."
   ]
  },
  {
   "cell_type": "code",
   "execution_count": 15,
   "id": "cc32d3c4-02cd-42ea-ad9a-1d499f5d1041",
   "metadata": {},
   "outputs": [],
   "source": [
    "# Crear características polinómicas de grado 2\n",
    "poly = PolynomialFeatures(degree=2)\n",
    "X_train_poly = poly.fit_transform(X_train)\n",
    "X_test_poly = poly.transform(X_test)"
   ]
  },
  {
   "cell_type": "markdown",
   "id": "0c5fb439-0c4b-4121-88ed-3d0032a50504",
   "metadata": {},
   "source": [
    "**Explicación:**\n",
    "\n",
    "PolynomialFeatures(degree=2): Genera características polinómicas para capturar relaciones no lineales entre las características y el precio de las viviendas.\n",
    "\n",
    "fit_transform: Ajusta el transformador al conjunto de entrenamiento y luego transforma los datos.\n",
    "\n",
    "transform: Transforma los datos de prueba."
   ]
  },
  {
   "cell_type": "markdown",
   "id": "a76ed7ba-4b84-4795-a5d9-4045b0bf1ca3",
   "metadata": {},
   "source": [
    "**Paso 3: Crear características polinómicas de grado 2**\n",
    "\n",
    "Aquí creamos las características polinómicas de grado 2."
   ]
  },
  {
   "cell_type": "code",
   "execution_count": 11,
   "id": "11c5d1ce-851c-4f11-b138-088643c93a56",
   "metadata": {},
   "outputs": [],
   "source": [
    "# Definir las características (todas las columnas excepto 'SalePrice') y la variable objetivo ('SalePrice')\n",
    "X = df.drop('SalePrice', axis=1).select_dtypes(include=[np.number])\n",
    "y = df['SalePrice']\n",
    "\n",
    "# Dividir los datos en conjuntos de entrenamiento (80%) y prueba (20%)\n",
    "from sklearn.model_selection import train_test_split\n",
    "X_train, X_test, y_train, y_test = train_test_split(X, y, test_size=0.2, random_state=42)"
   ]
  },
  {
   "cell_type": "markdown",
   "id": "58bd75ab-8fb5-4811-8e79-5d7ff5f548a4",
   "metadata": {},
   "source": [
    "Explicación:\n",
    "PolynomialFeatures(degree=2): Genera características polinómicas para capturar relaciones no lineales entre las características y el precio de las viviendas.\n",
    "fit_transform: Ajusta el transformador al conjunto de entrenamiento y luego transforma los datos.\n",
    "transform: Transforma los datos de prueba."
   ]
  },
  {
   "cell_type": "markdown",
   "id": "9ef1a39e-8d17-4957-9767-736884d705f9",
   "metadata": {},
   "source": [
    "**Paso 4: Estandarizar las características**\n",
    "\n",
    "Las características polinómicas suelen tener rangos muy diferentes, por lo que es importante estandarizarlas."
   ]
  },
  {
   "cell_type": "code",
   "execution_count": 16,
   "id": "f0029e2e-7e14-4ba4-95b1-f252b0f4295c",
   "metadata": {},
   "outputs": [],
   "source": [
    "# Estandarizar los datos\n",
    "scaler = StandardScaler()\n",
    "X_train_poly_scaled = scaler.fit_transform(X_train_poly)\n",
    "X_test_poly_scaled = scaler.transform(X_test_poly)"
   ]
  },
  {
   "cell_type": "markdown",
   "id": "126c7995-e2ee-4135-b3b1-a72dc3fb18e4",
   "metadata": {},
   "source": [
    "**Explicación:**\n",
    "\n",
    "StandardScaler: Estandariza los datos para que todas las características tengan media 0 y desviación estándar 1.\n",
    "\n",
    "fit_transform: Aplica el escalado a los datos de entrenamiento.\n",
    "\n",
    "transform: Aplica el mismo escalado a los datos de prueba."
   ]
  },
  {
   "cell_type": "markdown",
   "id": "76335668-37a1-47df-9997-4840446c8964",
   "metadata": {},
   "source": [
    "**Paso 5: Entrenar modelos con regularización**"
   ]
  },
  {
   "cell_type": "markdown",
   "id": "b46ded72-8ded-47b3-bf83-77a11f7f0a6b",
   "metadata": {},
   "source": [
    "**Modelo 1: Regresión Polinomial sin regularización (Regresión Lineal)**"
   ]
  },
  {
   "cell_type": "code",
   "execution_count": 17,
   "id": "e50d814c-7fe1-4aca-8db2-124e9eab0bcb",
   "metadata": {},
   "outputs": [
    {
     "name": "stdout",
     "output_type": "stream",
     "text": [
      "MSE Regresión Lineal: 0.46430152383012063\n"
     ]
    }
   ],
   "source": [
    "# Entrenar un modelo de regresión lineal\n",
    "lin_reg = LinearRegression()\n",
    "lin_reg.fit(X_train_poly_scaled, y_train)\n",
    "\n",
    "# Predecir los precios\n",
    "y_pred_lin = lin_reg.predict(X_test_poly_scaled)\n",
    "\n",
    "# Evaluar el modelo\n",
    "mse_lin = mean_squared_error(y_test, y_pred_lin)\n",
    "print(f\"MSE Regresión Lineal: {mse_lin}\")"
   ]
  },
  {
   "cell_type": "markdown",
   "id": "429dd6af-4c4e-47bc-b4eb-4bdcc3abb7f8",
   "metadata": {},
   "source": [
    "**Explicación:**\n",
    "\n",
    "LinearRegression: Entrena un modelo sin regularización.\n",
    "\n",
    "mean_squared_error: Calcula el error cuadrático medio para evaluar el desempeño del modelo."
   ]
  },
  {
   "cell_type": "markdown",
   "id": "e8b95f68-b4f4-49d5-ad72-50b2bdcdab04",
   "metadata": {},
   "source": [
    "**Modelo 2: Regresión Ridge**"
   ]
  },
  {
   "cell_type": "code",
   "execution_count": 18,
   "id": "5ff1124e-511c-40e4-98ef-f265b2602ce0",
   "metadata": {},
   "outputs": [
    {
     "name": "stdout",
     "output_type": "stream",
     "text": [
      "MSE Regresión Ridge: 0.47288331755002094\n"
     ]
    }
   ],
   "source": [
    "# Entrenar un modelo de regresión Ridge\n",
    "ridge_reg = Ridge(alpha=1.0)\n",
    "ridge_reg.fit(X_train_poly_scaled, y_train)\n",
    "\n",
    "# Predecir los precios\n",
    "y_pred_ridge = ridge_reg.predict(X_test_poly_scaled)\n",
    "\n",
    "# Evaluar el modelo\n",
    "mse_ridge = mean_squared_error(y_test, y_pred_ridge)\n",
    "print(f\"MSE Regresión Ridge: {mse_ridge}\")"
   ]
  },
  {
   "cell_type": "markdown",
   "id": "cde202cf-f7a4-4bc5-88f6-a59d7dcc5cca",
   "metadata": {},
   "source": [
    "**Explicación:**\n",
    "\n",
    "Ridge(alpha=1.0): Aplicamos regularización Ridge para reducir el overfitting penalizando grandes coeficientes.\n",
    "    \n",
    "El parámetro alpha controla la cantidad de regularización (cuanto mayor es, mayor es la penalización)."
   ]
  },
  {
   "cell_type": "markdown",
   "id": "fa6d5941-389a-4b1a-af45-a66058864fca",
   "metadata": {},
   "source": [
    "**Modelo 3: Regresión Lasso**"
   ]
  },
  {
   "cell_type": "code",
   "execution_count": 19,
   "id": "0f8cbdcc-f230-4c03-8d16-35c1bf69a289",
   "metadata": {},
   "outputs": [
    {
     "name": "stdout",
     "output_type": "stream",
     "text": [
      "MSE Regresión Lasso: 0.5616985301068089\n"
     ]
    },
    {
     "name": "stderr",
     "output_type": "stream",
     "text": [
      "/home/julio/.local/lib/python3.10/site-packages/sklearn/linear_model/_coordinate_descent.py:697: ConvergenceWarning: Objective did not converge. You might want to increase the number of iterations, check the scale of the features or consider increasing regularisation. Duality gap: 3.948e+01, tolerance: 2.207e+00\n",
      "  model = cd_fast.enet_coordinate_descent(\n"
     ]
    }
   ],
   "source": [
    "# Entrenar un modelo de regresión Lasso\n",
    "lasso_reg = Lasso(alpha=0.01)\n",
    "lasso_reg.fit(X_train_poly_scaled, y_train)\n",
    "\n",
    "# Predecir los precios\n",
    "y_pred_lasso = lasso_reg.predict(X_test_poly_scaled)\n",
    "\n",
    "# Evaluar el modelo\n",
    "mse_lasso = mean_squared_error(y_test, y_pred_lasso)\n",
    "print(f\"MSE Regresión Lasso: {mse_lasso}\")\n"
   ]
  },
  {
   "cell_type": "markdown",
   "id": "6202e9a0-e0d6-4e02-b27b-fd65475d934a",
   "metadata": {},
   "source": [
    "**Explicación:**\n",
    "\n",
    "Lasso(alpha=0.01): Similar a Ridge, pero con Lasso, algunos coeficientes pueden volverse exactamente cero, lo que realiza una selección de características automática."
   ]
  },
  {
   "cell_type": "markdown",
   "id": "b5c39568-82d3-4466-9bff-a4d26fbb5d19",
   "metadata": {},
   "source": [
    "**Modelo 4: Regresión Elastic Net**"
   ]
  },
  {
   "cell_type": "code",
   "execution_count": 20,
   "id": "f64705c4-9cce-462d-b5fb-ae4510df0951",
   "metadata": {},
   "outputs": [
    {
     "name": "stdout",
     "output_type": "stream",
     "text": [
      "MSE Elastic Net: 0.561270580772623\n"
     ]
    }
   ],
   "source": [
    "# Entrenar un modelo de ElasticNet\n",
    "elastic_net = ElasticNet(alpha=0.01, l1_ratio=0.5)\n",
    "elastic_net.fit(X_train_poly_scaled, y_train)\n",
    "\n",
    "# Predecir los precios\n",
    "y_pred_elastic = elastic_net.predict(X_test_poly_scaled)\n",
    "\n",
    "# Evaluar el modelo\n",
    "mse_elastic = mean_squared_error(y_test, y_pred_elastic)\n",
    "print(f\"MSE Elastic Net: {mse_elastic}\")"
   ]
  },
  {
   "cell_type": "markdown",
   "id": "f55078a1-8611-475a-8b10-2b3e77484c67",
   "metadata": {},
   "source": [
    "**Explicación:**\n",
    "\n",
    "ElasticNet(alpha=0.01, l1_ratio=0.5): Combina las regularizaciones de Ridge y Lasso. El parámetro l1_ratio controla la mezcla entre Lasso y Ridge.\n",
    "\n",
    "Si l1_ratio es 0, el modelo es equivalente a Ridge, si es 1, es equivalente a Lasso."
   ]
  },
  {
   "cell_type": "markdown",
   "id": "d6bc8e5b-1255-42c4-9db6-faa0e9fdbf2a",
   "metadata": {},
   "source": [
    "**Paso 6: Comparar los resultados**\n",
    "\n",
    "Finalmente, comparamos los errores cuadráticos medios de los diferentes modelos."
   ]
  },
  {
   "cell_type": "markdown",
   "id": "00012da8-1901-4cdb-86a6-fae3f90ef173",
   "metadata": {},
   "source": [
    "El **MSE** (Mean Squared Error o Error Cuadrático Medio) es una métrica utilizada para evaluar la calidad de un modelo de regresión. Representa el promedio de los cuadrados de las diferencias entre los valores predichos por el modelo y los valores reales del conjunto de datos. Se calcula con la fórmula:\n",
    "\n",
    "$\n",
    "MSE = \\frac{1}{n} \\sum_{i=1}^{n} (y_i - \\hat{y}_i)^2\n",
    "$\n",
    "\n",
    "Donde:\n",
    "- $y_i$son los valores reales.\n",
    "- $\\hat{y}_i$son los valores predichos por el modelo.\n",
    "- $n$ es el número total de datos.\n",
    "\n",
    "El MSE siempre es un valor positivo, y cuanto más pequeño sea, mejor es el rendimiento del modelo. Un MSE más bajo indica que las predicciones del modelo están más cerca de los valores reales."
   ]
  },
  {
   "cell_type": "code",
   "execution_count": 21,
   "id": "1dda3ed8-9e91-4099-8218-f6aaf9d86a7c",
   "metadata": {},
   "outputs": [
    {
     "name": "stdout",
     "output_type": "stream",
     "text": [
      "Comparación de modelos:\n",
      "MSE Regresión Lineal: 0.46430152383012063\n",
      "MSE Regresión Ridge: 0.47288331755002094\n",
      "MSE Regresión Lasso: 0.5616985301068089\n",
      "MSE Elastic Net: 0.561270580772623\n"
     ]
    }
   ],
   "source": [
    "print(\"Comparación de modelos:\")\n",
    "print(f\"MSE Regresión Lineal: {mse_lin}\")\n",
    "print(f\"MSE Regresión Ridge: {mse_ridge}\")\n",
    "print(f\"MSE Regresión Lasso: {mse_lasso}\")\n",
    "print(f\"MSE Elastic Net: {mse_elastic}\")\n"
   ]
  },
  {
   "cell_type": "markdown",
   "id": "00cc7852-2266-4286-807e-8c325217aee9",
   "metadata": {},
   "source": [
    "Explicación:\n",
    "Aquí se puede ver cómo la regularización afecta los resultados, y elegir el modelo con el menor error cuadrático medio para el conjunto de prueba.\n"
   ]
  },
  {
   "cell_type": "markdown",
   "id": "b98c4680-65dc-44d2-aeeb-14e154bce4b3",
   "metadata": {},
   "source": [
    "**Regresión Lineal:** Tiene el menor MSE (0.464), lo que sugiere que el modelo sin regularización se ajusta mejor a los datos, pero podría estar sobreajustando.\n",
    "\n",
    "**Ridge:** Su MSE es un poco mayor (0.472), lo que sugiere que la regularización ayuda a reducir el sobreajuste, aunque el impacto en la precisión es pequeño.\n",
    "\n",
    "**Lasso:** Su MSE es mayor (0.561), lo que indica que la penalización Lasso puede estar eliminando demasiadas características importantes, empeorando el ajuste.\n",
    "\n",
    "**Elastic Net:** El MSE (0.561) es similar al de Lasso, ya que Elastic Net combina Lasso y Ridge, pero el balance utilizado no mejora significativamente respecto a Lasso en este caso.\n",
    "\n",
    "En resumen, la regresión lineal simple ofrece la mejor precisión, pero los modelos regularizados, como Ridge y Elastic Net, son más robustos y menos propensos al sobreajuste."
   ]
  },
  {
   "cell_type": "markdown",
   "id": "ee7515ae-8010-4a29-95d2-270d3b601104",
   "metadata": {},
   "source": [
    "**Paso 7: Visualizar los coeficientes**\n",
    "\n",
    "Puedes visualizar los coeficientes aprendidos por los diferentes modelos para ver cómo afecta la regularización."
   ]
  },
  {
   "cell_type": "code",
   "execution_count": 22,
   "id": "a37e9bd4-9fb4-4492-ba9f-b49b1144a21c",
   "metadata": {},
   "outputs": [
    {
     "data": {
      "image/png": "[encoded data removed]",
      "text/plain": [
       "<Figure size 1000x600 with 1 Axes>"
      ]
     },
     "metadata": {},
     "output_type": "display_data"
    }
   ],
   "source": [
    "# Coeficientes de los modelos\n",
    "plt.figure(figsize=(10, 6))\n",
    "plt.plot(lin_reg.coef_, label=\"Regresión Lineal\")\n",
    "plt.plot(ridge_reg.coef_, label=\"Ridge\")\n",
    "plt.plot(lasso_reg.coef_, label=\"Lasso\")\n",
    "plt.plot(elastic_net.coef_, label=\"Elastic Net\")\n",
    "plt.legend()\n",
    "plt.title(\"Comparación de Coeficientes\")\n",
    "plt.show()"
   ]
  },
  {
   "cell_type": "markdown",
   "id": "a881641f-217e-48a3-92dd-94b1ae0385c5",
   "metadata": {},
   "source": [
    "**Explicación:**\n",
    "\n",
    "Este gráfico muestra cómo los diferentes modelos asignan coeficientes a las características polinómicas, con regularización empujando algunos coeficientes hacia cero."
   ]
  },
  {
   "cell_type": "code",
   "execution_count": null,
   "id": "32d78a89-a73f-404e-85ee-57541903cf47",
   "metadata": {},
   "outputs": [],
   "source": []
  }
 ],
 "metadata": {
  "kernelspec": {
   "display_name": "Python 3 (ipykernel)",
   "language": "python",
   "name": "python3"
  },
  "language_info": {
   "codemirror_mode": {
    "name": "ipython",
    "version": 3
   },
   "file_extension": ".py",
   "mimetype": "text/x-python",
   "name": "python",
   "nbconvert_exporter": "python",
   "pygments_lexer": "ipython3",
   "version": "3.10.12"
  }
 },
 "nbformat": 4,
 "nbformat_minor": 5
}
