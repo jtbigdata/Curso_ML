{
 "cells": [
  {
   "cell_type": "markdown",
   "id": "9e6e5358-413e-4f76-8885-23a185544960",
   "metadata": {},
   "source": [
    "**Módulo 13: Procesamiento de Lenguaje Natural (NLP) con Machine Learning**\n",
    "\n",
    "**Conceptos clave:**\n",
    "\n",
    "Fundamentos de NLP: tokenización, lematización, stop words.\n",
    "\n",
    "Modelos de Bag of Words (BoW) y TF-IDF.\n",
    "\n",
    "Modelos de clasificación de texto con Naive Bayes y SVM.\n",
    "\n",
    "**Proyecto: Clasificación de sentimientos en redes sociales.**\n",
    "    \n",
    "Utilizar un dataset de reseñas de productos o comentarios en redes sociales para entrenar un modelo que clasifique los sentimientos (positivos/negativos)."
   ]
  },
  {
   "cell_type": "markdown",
   "id": "c9efca66-8528-4a40-910b-c4026a8151a7",
   "metadata": {},
   "source": [
    "**Proyecto en Español: Clasificación de Sentimientos en Comentarios de Redes Sociales**\n",
    "\n",
    "**Objetivo:** Clasificar los comentarios en redes sociales en positivos y negativos utilizando técnicas de Procesamiento de Lenguaje Natural y Machine Learning."
   ]
  },
  {
   "cell_type": "markdown",
   "id": "61c60e94-fd88-4753-b7ac-5887179ff676",
   "metadata": {},
   "source": [
    "**Paso 1: Instalación de librerías necesarias**\n",
    "\n",
    "Primero, instalamos las librerías necesarias para el proyecto:"
   ]
  },
  {
   "cell_type": "code",
   "execution_count": 1,
   "id": "ae0886bf-f0cb-4c8c-835d-3a9fb8b41811",
   "metadata": {},
   "outputs": [],
   "source": [
    "#!pip install numpy pandas scikit-learn nltk matplotlib seaborn"
   ]
  },
  {
   "cell_type": "markdown",
   "id": "6c894a6d-150e-462e-bed6-caff7a8b2da5",
   "metadata": {},
   "source": [
    "**Paso 2: Importar las librerías**\n",
    "\n",
    "A continuación, importamos las librerías principales que vamos a utilizar."
   ]
  },
  {
   "cell_type": "code",
   "execution_count": 2,
   "id": "bb606232-e067-4caf-a3f6-1dce82a9bc89",
   "metadata": {},
   "outputs": [],
   "source": [
    "import numpy as np\n",
    "import pandas as pd\n",
    "from sklearn.model_selection import train_test_split\n",
    "from sklearn.feature_extraction.text import CountVectorizer, TfidfVectorizer\n",
    "from sklearn.naive_bayes import MultinomialNB\n",
    "from sklearn.svm import SVC\n",
    "from sklearn.metrics import accuracy_score, classification_report\n",
    "import nltk\n",
    "from nltk.corpus import stopwords\n",
    "from nltk.tokenize import word_tokenize\n",
    "from nltk.stem import WordNetLemmatizer\n",
    "import seaborn as sns\n",
    "import matplotlib.pyplot as plt"
   ]
  },
  {
   "cell_type": "markdown",
   "id": "6aa30a3e-3bcf-430a-ae56-c3a62c0f2b6a",
   "metadata": {},
   "source": [
    "**Paso 3: Descargar dataset**\n",
    "\n",
    "Para este proyecto, usaremos un dataset público de comentarios de redes sociales. Vamos a descargar el archivo CSV directamente desde una URL:"
   ]
  },
  {
   "cell_type": "code",
   "execution_count": 30,
   "id": "be5db8de-3f13-4a91-9c34-7fba67119e30",
   "metadata": {},
   "outputs": [
    {
     "name": "stderr",
     "output_type": "stream",
     "text": [
      "IOPub data rate exceeded.\n",
      "The Jupyter server will temporarily stop sending output\n",
      "to the client in order to avoid crashing it.\n",
      "To change this limit, set the config variable\n",
      "`--ServerApp.iopub_data_rate_limit`.\n",
      "\n",
      "Current values:\n",
      "ServerApp.iopub_data_rate_limit=1000000.0 (bytes/sec)\n",
      "ServerApp.rate_limit_window=3.0 (secs)\n",
      "\n"
     ]
    }
   ],
   "source": [
    "#url='/home/julio/jupyter_files/Curso_ML/tweets_politica_kaggle.csv'\n",
    "#url = 'tu_dataset_url_aqui'  # Reemplaza con la URL o ruta de tu dataset\n",
    "#import pandas as pd\n",
    "\n",
    "url = '/home/julio/jupyter_files/Curso_ML/tweets_politica_kaggle.csv'\n",
    "\n",
    "# Intenta leer el archivo CSV con opciones específicas para manejar comillas y caracteres de escape\n",
    "try:\n",
    "    df = pd.read_csv(\n",
    "        url,\n",
    "        sep=',',  # Ajusta el delimitador si es diferente\n",
    "        quotechar='\"',\n",
    "        escapechar='\\\\',\n",
    "        on_bad_lines='warn',  # O 'skip' para omitir líneas problemáticas\n",
    "        encoding='utf-8'  # Ajusta la codificación si es necesario\n",
    "    )\n",
    "except pd.errors.ParserError as e:\n",
    "    print(f\"Error al leer el archivo CSV: {e}\")"
   ]
  },
  {
   "cell_type": "code",
   "execution_count": 31,
   "id": "41d2f670-d241-4220-a16d-45ab8b8123e2",
   "metadata": {},
   "outputs": [],
   "source": [
    "df.head()\n",
    "df2= df.sample(frac=0.01, random_state=42) "
   ]
  },
  {
   "cell_type": "code",
   "execution_count": 32,
   "id": "0bab4352-fda2-47d3-b194-74bf0f100e85",
   "metadata": {},
   "outputs": [],
   "source": [
    "# Dividir la única columna en múltiples columnas usando '\\t' como delimitador\n",
    "df2 = df['cuenta\\tpartido\\ttimestamp\\ttweet'].str.split('\\t', expand=True)\n",
    "\n",
    "# Asignar nombres a las columnas\n",
    "df2.columns = ['cuenta', 'partido', 'timestamp', 'tweet']"
   ]
  },
  {
   "cell_type": "code",
   "execution_count": 33,
   "id": "e31eb737-8b85-4777-b128-5bdcc581f0f8",
   "metadata": {},
   "outputs": [
    {
     "name": "stdout",
     "output_type": "stream",
     "text": [
      "<class 'pandas.core.frame.DataFrame'>\n",
      "RangeIndex: 109195 entries, 0 to 109194\n",
      "Data columns (total 4 columns):\n",
      " #   Column     Non-Null Count   Dtype \n",
      "---  ------     --------------   ----- \n",
      " 0   cuenta     109195 non-null  object\n",
      " 1   partido    109195 non-null  object\n",
      " 2   timestamp  109195 non-null  object\n",
      " 3   tweet      109195 non-null  object\n",
      "dtypes: object(4)\n",
      "memory usage: 3.3+ MB\n"
     ]
    }
   ],
   "source": [
    "df2.info()"
   ]
  },
  {
   "cell_type": "code",
   "execution_count": 34,
   "id": "7c37f6a7-9040-4846-b6c8-cb43e2e70a4a",
   "metadata": {},
   "outputs": [
    {
     "data": {
      "text/plain": [
       "0         1363973492.0\n",
       "1         1364061035.0\n",
       "2         1364116804.0\n",
       "3         1364152692.0\n",
       "4         1364153876.0\n",
       "              ...     \n",
       "109190    1679569934.0\n",
       "109191    1679570026.0\n",
       "109192    1679570122.0\n",
       "109193    1679570502.0\n",
       "109194    1679571534.0\n",
       "Name: timestamp, Length: 109195, dtype: object"
      ]
     },
     "execution_count": 34,
     "metadata": {},
     "output_type": "execute_result"
    }
   ],
   "source": [
    "df2.timestamp\t"
   ]
  },
  {
   "cell_type": "markdown",
   "id": "984e1974-5845-43df-b2b9-733a8e6368ca",
   "metadata": {},
   "source": [
    "**Instalación de Librerías**"
   ]
  },
  {
   "cell_type": "code",
   "execution_count": 36,
   "id": "bed1e0c4-2a18-4582-9f29-58f1c40a1e53",
   "metadata": {},
   "outputs": [],
   "source": [
    "#!pip install pandas spacy textblob vaderSentiment\n",
    "#!python -m spacy download es_core_news_sm  # Modelo en español para spaCy\n",
    "#!pip install pandas spacy transformers vaderSentiment afinn\n",
    "#python -m spacy download es_core_news_sm  # Modelo en español para spaCy\n",
    "#!pip install pandas spacy transformers vaderSentiment afinn matplotlib seaborn sentistrength\n",
    "#!python -m spacy download es_core_news_sm  # Modelo en español para spaCy"
   ]
  },
  {
   "cell_type": "markdown",
   "id": "a42c83b4-525e-434e-8b2b-a002e34e434e",
   "metadata": {},
   "source": [
    "**Cargar y Preprocesar los Datos**"
   ]
  },
  {
   "cell_type": "code",
   "execution_count": 37,
   "id": "3c18b791-77fa-411c-a4ca-0baaef67a14f",
   "metadata": {},
   "outputs": [],
   "source": [
    "import pandas as pd\n",
    "import re\n",
    "import spacy\n",
    "\n",
    "# Cargar el modelo en español de spaCy\n",
    "nlp = spacy.load('es_core_news_sm')\n",
    "\n",
    "\n",
    "# Función para limpiar el texto\n",
    "def clean_text(text):\n",
    "    text = re.sub(r'http\\S+', '', text)  # Eliminar URLs\n",
    "    text = re.sub(r'@\\w+', '', text)  # Eliminar menciones\n",
    "    text = re.sub(r'#\\w+', '', text)  # Eliminar hashtags\n",
    "    text = re.sub(r'\\d+', '', text)  # Eliminar números\n",
    "    text = text.lower()  # Convertir a minúsculas\n",
    "    text = re.sub(r'\\s+', ' ', text).strip()  # Eliminar espacios extras\n",
    "    return text"
   ]
  },
  {
   "cell_type": "code",
   "execution_count": 38,
   "id": "d0f24b38-29c1-4514-99fb-8ff212cfbc33",
   "metadata": {},
   "outputs": [],
   "source": [
    "df2['tweet_cleaned'] = df2['tweet'].apply(clean_text)"
   ]
  },
  {
   "cell_type": "markdown",
   "id": "748954c6-a8da-4ebe-83a3-6c3402c833d2",
   "metadata": {},
   "source": [
    "**Análisis de Sentimientos y Polaridad**"
   ]
  },
  {
   "cell_type": "markdown",
   "id": "8a826388-4c72-4bb7-a8ec-4916060cd0fa",
   "metadata": {},
   "source": [
    "**Usando TextBlob para Polaridad y Subjetividad**"
   ]
  },
  {
   "cell_type": "code",
   "execution_count": 39,
   "id": "269142c1-2815-4837-976f-bf6bf2225005",
   "metadata": {},
   "outputs": [],
   "source": [
    "from textblob import TextBlob\n",
    "\n",
    "def get_polarity(tweet):\n",
    "    blob = TextBlob(tweet)\n",
    "    return blob.sentiment.polarity  # Polaridad (-1 a 1)\n",
    "\n",
    "def get_subjectivity(tweet):\n",
    "    blob = TextBlob(tweet)\n",
    "    return blob.sentiment.subjectivity  # Subjetividad (0 a 1)"
   ]
  },
  {
   "cell_type": "code",
   "execution_count": 40,
   "id": "8699a5ea-7097-4281-910d-4ecc9ac36592",
   "metadata": {},
   "outputs": [],
   "source": [
    "df2['polarity_textblob'] = df2['tweet_cleaned'].apply(get_polarity)"
   ]
  },
  {
   "cell_type": "code",
   "execution_count": 41,
   "id": "e748e81d-6a0e-4387-a0cb-c22758ba29cd",
   "metadata": {},
   "outputs": [],
   "source": [
    "df2['subjectivity_textblob'] = df2['tweet_cleaned'].apply(get_subjectivity)"
   ]
  },
  {
   "cell_type": "code",
   "execution_count": 42,
   "id": "8ce4a4d2-b460-4477-b3a8-4d9d3cd64624",
   "metadata": {},
   "outputs": [
    {
     "data": {
      "text/html": [
       "<div>\n",
       "<style scoped>\n",
       "    .dataframe tbody tr th:only-of-type {\n",
       "        vertical-align: middle;\n",
       "    }\n",
       "\n",
       "    .dataframe tbody tr th {\n",
       "        vertical-align: top;\n",
       "    }\n",
       "\n",
       "    .dataframe thead th {\n",
       "        text-align: right;\n",
       "    }\n",
       "</style>\n",
       "<table border=\"1\" class=\"dataframe\">\n",
       "  <thead>\n",
       "    <tr style=\"text-align: right;\">\n",
       "      <th></th>\n",
       "      <th>cuenta</th>\n",
       "      <th>partido</th>\n",
       "      <th>timestamp</th>\n",
       "      <th>tweet</th>\n",
       "      <th>tweet_cleaned</th>\n",
       "      <th>polarity_textblob</th>\n",
       "      <th>subjectivity_textblob</th>\n",
       "    </tr>\n",
       "  </thead>\n",
       "  <tbody>\n",
       "    <tr>\n",
       "      <th>0</th>\n",
       "      <td>a34133350b0605cb24081843f63176ca</td>\n",
       "      <td>psoe</td>\n",
       "      <td>1363973492.0</td>\n",
       "      <td>@vesteve3 @manubenas @ccoo_rm @desobediencia_ ...</td>\n",
       "      <td>(buen ánimo para esta primavera que iniciamos).</td>\n",
       "      <td>0.000000</td>\n",
       "      <td>0.000000</td>\n",
       "    </tr>\n",
       "    <tr>\n",
       "      <th>1</th>\n",
       "      <td>a34133350b0605cb24081843f63176ca</td>\n",
       "      <td>psoe</td>\n",
       "      <td>1364061035.0</td>\n",
       "      <td>\"“@kirovast: @Hugo_Moran muy fan de la \"\"radic...</td>\n",
       "      <td>\"“: muy fan de la \"\"radicalidad social\"\"” (fre...</td>\n",
       "      <td>0.033333</td>\n",
       "      <td>0.066667</td>\n",
       "    </tr>\n",
       "    <tr>\n",
       "      <th>2</th>\n",
       "      <td>a34133350b0605cb24081843f63176ca</td>\n",
       "      <td>psoe</td>\n",
       "      <td>1364116804.0</td>\n",
       "      <td>@ALTAS_PRESIONES Nuevos dueños para las renova...</td>\n",
       "      <td>nuevos dueños para las renovables. en ese mome...</td>\n",
       "      <td>0.000000</td>\n",
       "      <td>0.000000</td>\n",
       "    </tr>\n",
       "    <tr>\n",
       "      <th>3</th>\n",
       "      <td>a34133350b0605cb24081843f63176ca</td>\n",
       "      <td>psoe</td>\n",
       "      <td>1364152692.0</td>\n",
       "      <td>“@cesarnayu: https://t.co/J4OTXj1x7w … Por fav...</td>\n",
       "      <td>“: … por favor es importante difundir este men...</td>\n",
       "      <td>0.000000</td>\n",
       "      <td>0.000000</td>\n",
       "    </tr>\n",
       "    <tr>\n",
       "      <th>4</th>\n",
       "      <td>a34133350b0605cb24081843f63176ca</td>\n",
       "      <td>psoe</td>\n",
       "      <td>1364153876.0</td>\n",
       "      <td>“@iAgua: http://t.co/6yMSNcV1UA” (El Gobierno ...</td>\n",
       "      <td>“: (el gobierno sigue adelante con sus planes ...</td>\n",
       "      <td>-0.750000</td>\n",
       "      <td>1.000000</td>\n",
       "    </tr>\n",
       "    <tr>\n",
       "      <th>...</th>\n",
       "      <td>...</td>\n",
       "      <td>...</td>\n",
       "      <td>...</td>\n",
       "      <td>...</td>\n",
       "      <td>...</td>\n",
       "      <td>...</td>\n",
       "      <td>...</td>\n",
       "    </tr>\n",
       "    <tr>\n",
       "      <th>109190</th>\n",
       "      <td>fdce0be92377e5874e04584c4eac7461</td>\n",
       "      <td>psoe</td>\n",
       "      <td>1679569934.0</td>\n",
       "      <td>El culmen de la operación más esperpéntica de ...</td>\n",
       "      <td>el culmen de la operación más esperpéntica de ...</td>\n",
       "      <td>0.000000</td>\n",
       "      <td>0.000000</td>\n",
       "    </tr>\n",
       "    <tr>\n",
       "      <th>109191</th>\n",
       "      <td>42acd1f0c1c51732519ad0d533573359</td>\n",
       "      <td>pp</td>\n",
       "      <td>1679570026.0</td>\n",
       "      <td>Acontecimiento planetario:El líder mundial Ped...</td>\n",
       "      <td>acontecimiento planetario:el líder mundial ped...</td>\n",
       "      <td>0.000000</td>\n",
       "      <td>0.000000</td>\n",
       "    </tr>\n",
       "    <tr>\n",
       "      <th>109192</th>\n",
       "      <td>b4b003b4349b78f094d7018c2fdbb43a</td>\n",
       "      <td>vox</td>\n",
       "      <td>1679570122.0</td>\n",
       "      <td>Al Rey Es España Felipe VI lo ofende siempre q...</td>\n",
       "      <td>al rey es españa felipe vi lo ofende siempre q...</td>\n",
       "      <td>0.000000</td>\n",
       "      <td>0.000000</td>\n",
       "    </tr>\n",
       "    <tr>\n",
       "      <th>109193</th>\n",
       "      <td>bfeea591a6ca90cf0ddb9ccda42ec306</td>\n",
       "      <td>vox</td>\n",
       "      <td>1679570502.0</td>\n",
       "      <td>Lo verdaderamente irreversible es la mutilació...</td>\n",
       "      <td>lo verdaderamente irreversible es la mutilació...</td>\n",
       "      <td>0.000000</td>\n",
       "      <td>0.000000</td>\n",
       "    </tr>\n",
       "    <tr>\n",
       "      <th>109194</th>\n",
       "      <td>561b1a4d4369a0116ac5eba469f28bc0</td>\n",
       "      <td>psoe</td>\n",
       "      <td>1679571534.0</td>\n",
       "      <td>Y esto también es el PP https://t.co/CaOTdTWnXB</td>\n",
       "      <td>y esto también es el pp</td>\n",
       "      <td>0.000000</td>\n",
       "      <td>0.000000</td>\n",
       "    </tr>\n",
       "  </tbody>\n",
       "</table>\n",
       "<p>109195 rows × 7 columns</p>\n",
       "</div>"
      ],
      "text/plain": [
       "                                  cuenta partido     timestamp  \\\n",
       "0       a34133350b0605cb24081843f63176ca    psoe  1363973492.0   \n",
       "1       a34133350b0605cb24081843f63176ca    psoe  1364061035.0   \n",
       "2       a34133350b0605cb24081843f63176ca    psoe  1364116804.0   \n",
       "3       a34133350b0605cb24081843f63176ca    psoe  1364152692.0   \n",
       "4       a34133350b0605cb24081843f63176ca    psoe  1364153876.0   \n",
       "...                                  ...     ...           ...   \n",
       "109190  fdce0be92377e5874e04584c4eac7461    psoe  1679569934.0   \n",
       "109191  42acd1f0c1c51732519ad0d533573359      pp  1679570026.0   \n",
       "109192  b4b003b4349b78f094d7018c2fdbb43a     vox  1679570122.0   \n",
       "109193  bfeea591a6ca90cf0ddb9ccda42ec306     vox  1679570502.0   \n",
       "109194  561b1a4d4369a0116ac5eba469f28bc0    psoe  1679571534.0   \n",
       "\n",
       "                                                    tweet  \\\n",
       "0       @vesteve3 @manubenas @ccoo_rm @desobediencia_ ...   \n",
       "1       \"“@kirovast: @Hugo_Moran muy fan de la \"\"radic...   \n",
       "2       @ALTAS_PRESIONES Nuevos dueños para las renova...   \n",
       "3       “@cesarnayu: https://t.co/J4OTXj1x7w … Por fav...   \n",
       "4       “@iAgua: http://t.co/6yMSNcV1UA” (El Gobierno ...   \n",
       "...                                                   ...   \n",
       "109190  El culmen de la operación más esperpéntica de ...   \n",
       "109191  Acontecimiento planetario:El líder mundial Ped...   \n",
       "109192  Al Rey Es España Felipe VI lo ofende siempre q...   \n",
       "109193  Lo verdaderamente irreversible es la mutilació...   \n",
       "109194    Y esto también es el PP https://t.co/CaOTdTWnXB   \n",
       "\n",
       "                                            tweet_cleaned  polarity_textblob  \\\n",
       "0         (buen ánimo para esta primavera que iniciamos).           0.000000   \n",
       "1       \"“: muy fan de la \"\"radicalidad social\"\"” (fre...           0.033333   \n",
       "2       nuevos dueños para las renovables. en ese mome...           0.000000   \n",
       "3       “: … por favor es importante difundir este men...           0.000000   \n",
       "4       “: (el gobierno sigue adelante con sus planes ...          -0.750000   \n",
       "...                                                   ...                ...   \n",
       "109190  el culmen de la operación más esperpéntica de ...           0.000000   \n",
       "109191  acontecimiento planetario:el líder mundial ped...           0.000000   \n",
       "109192  al rey es españa felipe vi lo ofende siempre q...           0.000000   \n",
       "109193  lo verdaderamente irreversible es la mutilació...           0.000000   \n",
       "109194                            y esto también es el pp           0.000000   \n",
       "\n",
       "        subjectivity_textblob  \n",
       "0                    0.000000  \n",
       "1                    0.066667  \n",
       "2                    0.000000  \n",
       "3                    0.000000  \n",
       "4                    1.000000  \n",
       "...                       ...  \n",
       "109190               0.000000  \n",
       "109191               0.000000  \n",
       "109192               0.000000  \n",
       "109193               0.000000  \n",
       "109194               0.000000  \n",
       "\n",
       "[109195 rows x 7 columns]"
      ]
     },
     "execution_count": 42,
     "metadata": {},
     "output_type": "execute_result"
    }
   ],
   "source": [
    "df2"
   ]
  },
  {
   "cell_type": "markdown",
   "id": "4e6174cb-2800-4926-87ff-48677e50caa4",
   "metadata": {},
   "source": [
    "**Usando VADER para Polaridad**"
   ]
  },
  {
   "cell_type": "code",
   "execution_count": 43,
   "id": "fb9974e3-7aee-4633-82fa-3b70e4056299",
   "metadata": {},
   "outputs": [],
   "source": [
    "from vaderSentiment.vaderSentiment import SentimentIntensityAnalyzer\n",
    "\n",
    "analyzer = SentimentIntensityAnalyzer()\n",
    "\n",
    "def get_vader_sentiment(tweet):\n",
    "    sentiment = analyzer.polarity_scores(tweet)\n",
    "    return sentiment['compound']  # Polaridad compuesta (-1 a 1)"
   ]
  },
  {
   "cell_type": "code",
   "execution_count": 44,
   "id": "f21c4ab7-24e8-4d8b-a5f7-349627b2e507",
   "metadata": {},
   "outputs": [],
   "source": [
    "df2['polarity_vader'] = df2['tweet_cleaned'].apply(get_vader_sentiment)"
   ]
  },
  {
   "cell_type": "markdown",
   "id": "e951276e-bc02-44cb-b745-75655b00486a",
   "metadata": {},
   "source": [
    "**Usando Transformers para Análisis de Sentimientos**"
   ]
  },
  {
   "cell_type": "code",
   "execution_count": 46,
   "id": "5df792ac-837b-4dc2-b1ca-a5007ddb3515",
   "metadata": {},
   "outputs": [
    {
     "name": "stderr",
     "output_type": "stream",
     "text": [
      "2024-09-17 13:41:21.502434: E external/local_xla/xla/stream_executor/cuda/cuda_fft.cc:485] Unable to register cuFFT factory: Attempting to register factory for plugin cuFFT when one has already been registered\n",
      "2024-09-17 13:41:21.528430: E external/local_xla/xla/stream_executor/cuda/cuda_dnn.cc:8454] Unable to register cuDNN factory: Attempting to register factory for plugin cuDNN when one has already been registered\n",
      "2024-09-17 13:41:21.535971: E external/local_xla/xla/stream_executor/cuda/cuda_blas.cc:1452] Unable to register cuBLAS factory: Attempting to register factory for plugin cuBLAS when one has already been registered\n",
      "2024-09-17 13:41:21.557538: I tensorflow/core/platform/cpu_feature_guard.cc:210] This TensorFlow binary is optimized to use available CPU instructions in performance-critical operations.\n",
      "To enable the following instructions: AVX2 FMA, in other operations, rebuild TensorFlow with the appropriate compiler flags.\n",
      "2024-09-17 13:41:23.381614: W tensorflow/compiler/tf2tensorrt/utils/py_utils.cc:38] TF-TRT Warning: Could not find TensorRT\n",
      "/home/julio/.local/lib/python3.10/site-packages/transformers/tokenization_utils_base.py:1601: FutureWarning: `clean_up_tokenization_spaces` was not set. It will be set to `True` by default. This behavior will be depracted in transformers v4.45, and will be then set to `False` by default. For more details check this issue: https://github.com/huggingface/transformers/issues/31884\n",
      "  warnings.warn(\n"
     ]
    }
   ],
   "source": [
    "from transformers import pipeline\n",
    "\n",
    "sentiment_pipeline = pipeline(\"sentiment-analysis\", model=\"nlptown/bert-base-multilingual-uncased-sentiment\")\n",
    "\n",
    "def get_sentiment(tweet):\n",
    "    result = sentiment_pipeline(tweet)\n",
    "    return result[0]['label'], result[0]['score']"
   ]
  },
  {
   "cell_type": "code",
   "execution_count": null,
   "id": "befcdc90-be3b-451b-859a-d9212220e0ae",
   "metadata": {},
   "outputs": [],
   "source": [
    "df2[['sentiment_label', 'sentiment_score']] = df2['tweet_cleaned'].apply(lambda x: pd.Series(get_sentiment(x)))"
   ]
  },
  {
   "cell_type": "code",
   "execution_count": null,
   "id": "39eb8ffb-50c6-4664-a4ba-47d0fd9022e9",
   "metadata": {},
   "outputs": [],
   "source": [
    "df2"
   ]
  },
  {
   "cell_type": "markdown",
   "id": "1768e193-a3cc-4ae0-9201-256fe09b6b69",
   "metadata": {},
   "source": [
    "**Usando AFINN para Polaridad**"
   ]
  },
  {
   "cell_type": "code",
   "execution_count": null,
   "id": "dce6927e-bc8b-46c0-b3fb-c085d7949443",
   "metadata": {},
   "outputs": [],
   "source": [
    "from afinn import Afinn\n",
    "\n",
    "afinn = Afinn(language='es')\n",
    "\n",
    "def get_afinn_sentiment(tweet):\n",
    "    return afinn.score(tweet)  # Polaridad (positivo/negativo)"
   ]
  },
  {
   "cell_type": "code",
   "execution_count": null,
   "id": "f5f76a60-0cb9-43f0-8b65-4e38cf97ab89",
   "metadata": {},
   "outputs": [],
   "source": [
    "df2['sentiment_afinn'] = df2['tweet_cleaned'].apply(get_afinn_sentiment)"
   ]
  },
  {
   "cell_type": "code",
   "execution_count": null,
   "id": "01e07a92-bd74-4688-a25b-424efa8e26cd",
   "metadata": {},
   "outputs": [],
   "source": [
    "df2"
   ]
  },
  {
   "cell_type": "markdown",
   "id": "d928c8c0-afaa-47b9-8d6e-fe22f3f613a2",
   "metadata": {},
   "source": [
    "**Usando SentiStrength para Emociones**"
   ]
  },
  {
   "cell_type": "code",
   "execution_count": null,
   "id": "e2bdeb80-1c4c-4bd5-906d-30237907498c",
   "metadata": {},
   "outputs": [],
   "source": [
    "from sentistrength import PySentiStr\n",
    "\n",
    "senti = PySentiStr()\n",
    "senti.setSentiStrengthPath('/ruta/a/SentiStrengthCom/')  # Ruta a SentiStrength\n",
    "senti.setSentiStrengthLanguageFolderPath('/ruta/a/SentiStrengthData/')\n",
    "\n",
    "def get_sentistrength_emotion(tweet):\n",
    "    result = senti.getSentiment(tweet, score='dual')\n",
    "    return result[0], result[1]  # Devuelve el sentimiento positivo y negativo"
   ]
  },
  {
   "cell_type": "code",
   "execution_count": null,
   "id": "0d28fb31-e293-4912-ac03-f468ccf8a8fe",
   "metadata": {},
   "outputs": [],
   "source": [
    "df2[['positive_sentiment', 'negative_sentiment']] = df2['tweet_cleaned'].apply(lambda x: pd.Series(get_sentistrength_emotion(x)))"
   ]
  },
  {
   "cell_type": "markdown",
   "id": "fab9577f-5689-400d-8472-b0f2ed99c1c9",
   "metadata": {},
   "source": [
    "**Análisis de Entidades**"
   ]
  },
  {
   "cell_type": "code",
   "execution_count": null,
   "id": "5e6bafa2-1c3b-491f-95e0-43d2e87af346",
   "metadata": {},
   "outputs": [],
   "source": [
    "def extract_entities(tweet):\n",
    "    doc = nlp(tweet)\n",
    "    entities = [(ent.text, ent.label_) for ent in doc.ents]\n",
    "    return entities"
   ]
  },
  {
   "cell_type": "code",
   "execution_count": null,
   "id": "27b13f41-9f9e-49b0-bcb1-cb87138d4c64",
   "metadata": {},
   "outputs": [],
   "source": [
    "df2['entities'] = df2['tweet_cleaned'].apply(extract_entities)"
   ]
  },
  {
   "cell_type": "markdown",
   "id": "cc3d6cee-b4f5-42a4-b61d-3a28b265e5e7",
   "metadata": {},
   "source": [
    "**Análisis y Visualización**"
   ]
  },
  {
   "cell_type": "code",
   "execution_count": null,
   "id": "1471de63-f752-4a35-80ff-c6297c84424e",
   "metadata": {},
   "outputs": [],
   "source": [
    "import matplotlib.pyplot as plt\n",
    "import seaborn as sns\n",
    "\n",
    "# Estadísticas descriptivas\n",
    "print(df2[['polarity_textblob', 'subjectivity_textblob', 'polarity_vader', 'sentiment_score', 'sentiment_afinn', 'positive_sentiment', 'negative_sentiment']].describe())"
   ]
  },
  {
   "cell_type": "code",
   "execution_count": null,
   "id": "2c2bc313-a244-49e8-ba24-de395bdf5317",
   "metadata": {},
   "outputs": [],
   "source": [
    "# Visualización de polaridad con TextBlob\n",
    "plt.figure(figsize=(12, 6))\n",
    "sns.histplot(df2['polarity_textblob'].dropna(), bins=30, kde=True)\n",
    "plt.title('Distribución de la Polaridad (TextBlob)')\n",
    "plt.xlabel('Polaridad')\n",
    "plt.ylabel('Frecuencia')\n",
    "plt.show()"
   ]
  },
  {
   "cell_type": "code",
   "execution_count": null,
   "id": "5d44143c-a0d6-41ba-8c33-07824f7aa966",
   "metadata": {},
   "outputs": [],
   "source": [
    "# Visualización de subjetividad con TextBlob\n",
    "plt.figure(figsize=(12, 6))\n",
    "sns.histplot(df2['subjectivity_textblob'].dropna(), bins=30, kde=True)\n",
    "plt.title('Distribución de la Subjetividad (TextBlob)')\n",
    "plt.xlabel('Subjetividad')\n",
    "plt.ylabel('Frecuencia')\n",
    "plt.show()"
   ]
  },
  {
   "cell_type": "code",
   "execution_count": null,
   "id": "773b2607-b60d-4550-a3ca-4d058a1c195b",
   "metadata": {},
   "outputs": [],
   "source": [
    "# Visualización de polaridad con VADER\n",
    "plt.figure(figsize=(12, 6))\n",
    "sns.histplot(df2['polarity_vader'], bins=30, kde=True)\n",
    "plt.title('Distribución de la Polaridad (VADER)')\n",
    "plt.xlabel('Polaridad')\n",
    "plt.ylabel('Frecuencia')\n",
    "plt.show()"
   ]
  },
  {
   "cell_type": "code",
   "execution_count": null,
   "id": "6acef1b3-1ced-4c5a-a615-7f8413657e0a",
   "metadata": {},
   "outputs": [],
   "source": [
    "# Visualización de emociones con SentiStrength\n",
    "plt.figure(figsize=(12, 6))\n",
    "sns.histplot(df2['positive_sentiment'], bins=30, kde=True, color='green', label='Positivo')\n",
    "sns.histplot(df2['negative_sentiment'], bins=30, kde=True, color='red', label='Negativo')\n",
    "plt.title('Distribución de Emociones (SentiStrength)')\n",
    "plt.xlabel('Sentimiento')\n",
    "plt.ylabel('Frecuencia')\n",
    "plt.legend()\n",
    "plt.show()"
   ]
  }
 ],
 "metadata": {
  "kernelspec": {
   "display_name": "Python 3 (ipykernel)",
   "language": "python",
   "name": "python3"
  },
  "language_info": {
   "codemirror_mode": {
    "name": "ipython",
    "version": 3
   },
   "file_extension": ".py",
   "mimetype": "text/x-python",
   "name": "python",
   "nbconvert_exporter": "python",
   "pygments_lexer": "ipython3",
   "version": "3.10.12"
  }
 },
 "nbformat": 4,
 "nbformat_minor": 5
}
